{
 "cells": [
  {
   "cell_type": "markdown",
   "id": "0fc8666a",
   "metadata": {},
   "source": [
    "# Data cleaning imdb data set"
   ]
  },
  {
   "cell_type": "markdown",
   "id": "927f0fa2",
   "metadata": {},
   "source": [
    "In this project I will be __cleaning__ the data that I `scraped` from the `imdb website` in my __first project__. \n",
    "I will start __importing__ the required __libraries__, reading in the data the using the `\"pd.read_csv\"` funtion \n",
    "and having a look at the dataframe using the `\".head()\"` function "
   ]
  },
  {
   "cell_type": "markdown",
   "id": "17f1a57e",
   "metadata": {},
   "source": [
    "Importing the libraries."
   ]
  },
  {
   "cell_type": "code",
   "execution_count": 10,
   "id": "18fae3fa",
   "metadata": {},
   "outputs": [],
   "source": [
    "import numpy as np\n",
    "import pandas as pd"
   ]
  },
  {
   "cell_type": "markdown",
   "id": "c7dd7bf1",
   "metadata": {},
   "source": [
    "__Read__ in data and save in `variable` called `df`"
   ]
  },
  {
   "cell_type": "code",
   "execution_count": 2,
   "id": "f3a00877",
   "metadata": {},
   "outputs": [],
   "source": [
    "df =  pd.read_csv(\"movie_df\")"
   ]
  },
  {
   "cell_type": "markdown",
   "id": "28807f51",
   "metadata": {},
   "source": [
    "Here we can see the first 5 rows of the data."
   ]
  },
  {
   "cell_type": "code",
   "execution_count": 12,
   "id": "c3c6716e",
   "metadata": {},
   "outputs": [
    {
     "data": {
      "text/html": [
       "<div>\n",
       "<style scoped>\n",
       "    .dataframe tbody tr th:only-of-type {\n",
       "        vertical-align: middle;\n",
       "    }\n",
       "\n",
       "    .dataframe tbody tr th {\n",
       "        vertical-align: top;\n",
       "    }\n",
       "\n",
       "    .dataframe thead th {\n",
       "        text-align: right;\n",
       "    }\n",
       "</style>\n",
       "<table border=\"1\" class=\"dataframe\">\n",
       "  <thead>\n",
       "    <tr style=\"text-align: right;\">\n",
       "      <th></th>\n",
       "      <th>Unnamed: 0</th>\n",
       "      <th>Name of movie</th>\n",
       "      <th>Year of release</th>\n",
       "      <th>Runtime</th>\n",
       "      <th>Ratings</th>\n",
       "      <th>Metascore</th>\n",
       "      <th>Votes</th>\n",
       "      <th>Gross</th>\n",
       "      <th>Discription</th>\n",
       "      <th>Director</th>\n",
       "      <th>Stars</th>\n",
       "    </tr>\n",
       "  </thead>\n",
       "  <tbody>\n",
       "    <tr>\n",
       "      <th>0</th>\n",
       "      <td>0</td>\n",
       "      <td>Jai Bhim</td>\n",
       "      <td>2021</td>\n",
       "      <td>164</td>\n",
       "      <td>9.3</td>\n",
       "      <td>NaN</td>\n",
       "      <td>173,288</td>\n",
       "      <td>#138</td>\n",
       "      <td>When a tribal man is arrested for a case of al...</td>\n",
       "      <td>T.J. Gnanavel</td>\n",
       "      <td>['Suriya, Lijo Mol Jose, Manikandan, Rajisha V...</td>\n",
       "    </tr>\n",
       "    <tr>\n",
       "      <th>1</th>\n",
       "      <td>1</td>\n",
       "      <td>The Shawshank Redemption</td>\n",
       "      <td>1994</td>\n",
       "      <td>142</td>\n",
       "      <td>9.3</td>\n",
       "      <td>80.0</td>\n",
       "      <td>2,541,041</td>\n",
       "      <td>$28.34M</td>\n",
       "      <td>Two imprisoned men bond over a number of years...</td>\n",
       "      <td>Frank Darabont</td>\n",
       "      <td>['Tim Robbins, Morgan Freeman, Bob Gunton, Wil...</td>\n",
       "    </tr>\n",
       "    <tr>\n",
       "      <th>2</th>\n",
       "      <td>2</td>\n",
       "      <td>The Godfather</td>\n",
       "      <td>1972</td>\n",
       "      <td>175</td>\n",
       "      <td>9.2</td>\n",
       "      <td>100.0</td>\n",
       "      <td>1,748,372</td>\n",
       "      <td>$134.97M</td>\n",
       "      <td>The aging patriarch of an organized crime dyna...</td>\n",
       "      <td>Francis Ford Coppola</td>\n",
       "      <td>['Marlon Brando, Al Pacino, James Caan, Diane ...</td>\n",
       "    </tr>\n",
       "    <tr>\n",
       "      <th>3</th>\n",
       "      <td>3</td>\n",
       "      <td>Soorarai Pottru</td>\n",
       "      <td>2020</td>\n",
       "      <td>153</td>\n",
       "      <td>9.1</td>\n",
       "      <td>NaN</td>\n",
       "      <td>107,159</td>\n",
       "      <td>******</td>\n",
       "      <td>Nedumaaran Rajangam \"Maara\" sets out to make t...</td>\n",
       "      <td>Sudha Kongara</td>\n",
       "      <td>['Suriya, Paresh Rawal, Aparna Balamurali, Pra...</td>\n",
       "    </tr>\n",
       "    <tr>\n",
       "      <th>4</th>\n",
       "      <td>4</td>\n",
       "      <td>The Dark Knight</td>\n",
       "      <td>2008</td>\n",
       "      <td>152</td>\n",
       "      <td>9.0</td>\n",
       "      <td>84.0</td>\n",
       "      <td>2,491,317</td>\n",
       "      <td>$534.86M</td>\n",
       "      <td>When the menace known as the Joker wreaks havo...</td>\n",
       "      <td>Christopher Nolan</td>\n",
       "      <td>['Christian Bale, Heath Ledger, Aaron Eckhart,...</td>\n",
       "    </tr>\n",
       "  </tbody>\n",
       "</table>\n",
       "</div>"
      ],
      "text/plain": [
       "   Unnamed: 0             Name of movie Year of release  Runtime  Ratings  \\\n",
       "0           0                  Jai Bhim            2021      164      9.3   \n",
       "1           1  The Shawshank Redemption            1994      142      9.3   \n",
       "2           2             The Godfather            1972      175      9.2   \n",
       "3           3           Soorarai Pottru            2020      153      9.1   \n",
       "4           4           The Dark Knight            2008      152      9.0   \n",
       "\n",
       "   Metascore      Votes     Gross  \\\n",
       "0        NaN    173,288      #138   \n",
       "1       80.0  2,541,041   $28.34M   \n",
       "2      100.0  1,748,372  $134.97M   \n",
       "3        NaN    107,159    ******   \n",
       "4       84.0  2,491,317  $534.86M   \n",
       "\n",
       "                                         Discription              Director  \\\n",
       "0  When a tribal man is arrested for a case of al...         T.J. Gnanavel   \n",
       "1  Two imprisoned men bond over a number of years...        Frank Darabont   \n",
       "2  The aging patriarch of an organized crime dyna...  Francis Ford Coppola   \n",
       "3  Nedumaaran Rajangam \"Maara\" sets out to make t...         Sudha Kongara   \n",
       "4  When the menace known as the Joker wreaks havo...     Christopher Nolan   \n",
       "\n",
       "                                               Stars  \n",
       "0  ['Suriya, Lijo Mol Jose, Manikandan, Rajisha V...  \n",
       "1  ['Tim Robbins, Morgan Freeman, Bob Gunton, Wil...  \n",
       "2  ['Marlon Brando, Al Pacino, James Caan, Diane ...  \n",
       "3  ['Suriya, Paresh Rawal, Aparna Balamurali, Pra...  \n",
       "4  ['Christian Bale, Heath Ledger, Aaron Eckhart,...  "
      ]
     },
     "execution_count": 12,
     "metadata": {},
     "output_type": "execute_result"
    }
   ],
   "source": [
    "df.head()"
   ]
  },
  {
   "cell_type": "markdown",
   "id": "6bc658ac",
   "metadata": {},
   "source": [
    "Here we can see the last 5 rows of the data."
   ]
  },
  {
   "cell_type": "code",
   "execution_count": 7,
   "id": "9fc26dae",
   "metadata": {},
   "outputs": [
    {
     "data": {
      "text/html": [
       "<div>\n",
       "<style scoped>\n",
       "    .dataframe tbody tr th:only-of-type {\n",
       "        vertical-align: middle;\n",
       "    }\n",
       "\n",
       "    .dataframe tbody tr th {\n",
       "        vertical-align: top;\n",
       "    }\n",
       "\n",
       "    .dataframe thead th {\n",
       "        text-align: right;\n",
       "    }\n",
       "</style>\n",
       "<table border=\"1\" class=\"dataframe\">\n",
       "  <thead>\n",
       "    <tr style=\"text-align: right;\">\n",
       "      <th></th>\n",
       "      <th>Unnamed: 0</th>\n",
       "      <th>Name of movie</th>\n",
       "      <th>Year of release</th>\n",
       "      <th>Runtime</th>\n",
       "      <th>Ratings</th>\n",
       "      <th>Metascore</th>\n",
       "      <th>Votes</th>\n",
       "      <th>Gross</th>\n",
       "      <th>Discription</th>\n",
       "      <th>Director</th>\n",
       "      <th>Stars</th>\n",
       "    </tr>\n",
       "  </thead>\n",
       "  <tbody>\n",
       "    <tr>\n",
       "      <th>95</th>\n",
       "      <td>95</td>\n",
       "      <td>Vikram Vedha</td>\n",
       "      <td>2017</td>\n",
       "      <td>147</td>\n",
       "      <td>8.3</td>\n",
       "      <td>NaN</td>\n",
       "      <td>35,900</td>\n",
       "      <td>******</td>\n",
       "      <td>Vikram, a no-nonsense police officer, accompan...</td>\n",
       "      <td>Gayatri, Pushkar</td>\n",
       "      <td>['Madhavan, Vijay Sethupathi, Shraddha Srinath...</td>\n",
       "    </tr>\n",
       "    <tr>\n",
       "      <th>96</th>\n",
       "      <td>96</td>\n",
       "      <td>Drishyam</td>\n",
       "      <td>2013</td>\n",
       "      <td>160</td>\n",
       "      <td>8.3</td>\n",
       "      <td>NaN</td>\n",
       "      <td>39,567</td>\n",
       "      <td>#244</td>\n",
       "      <td>A man goes to extreme lengths to save his fami...</td>\n",
       "      <td>Jeethu Joseph</td>\n",
       "      <td>['Mohanlal, Meena, Asha Sharath, Ansiba']</td>\n",
       "    </tr>\n",
       "    <tr>\n",
       "      <th>97</th>\n",
       "      <td>97</td>\n",
       "      <td>Jagten</td>\n",
       "      <td>2012</td>\n",
       "      <td>115</td>\n",
       "      <td>8.3</td>\n",
       "      <td>77.0</td>\n",
       "      <td>313,632</td>\n",
       "      <td>$0.69M</td>\n",
       "      <td>A teacher lives a lonely life, all the while s...</td>\n",
       "      <td>Thomas Vinterberg</td>\n",
       "      <td>['Mads Mikkelsen, Thomas Bo Larsen, Annika Wed...</td>\n",
       "    </tr>\n",
       "    <tr>\n",
       "      <th>98</th>\n",
       "      <td>98</td>\n",
       "      <td>Jodaeiye Nader az Simin</td>\n",
       "      <td>2011</td>\n",
       "      <td>123</td>\n",
       "      <td>8.3</td>\n",
       "      <td>95.0</td>\n",
       "      <td>238,114</td>\n",
       "      <td>$7.10M</td>\n",
       "      <td>A married couple are faced with a difficult de...</td>\n",
       "      <td>Asghar Farhadi</td>\n",
       "      <td>['Payman Maadi, Leila Hatami, Sareh Bayat, Sha...</td>\n",
       "    </tr>\n",
       "    <tr>\n",
       "      <th>99</th>\n",
       "      <td>99</td>\n",
       "      <td>Incendies</td>\n",
       "      <td>2010</td>\n",
       "      <td>131</td>\n",
       "      <td>8.3</td>\n",
       "      <td>80.0</td>\n",
       "      <td>168,721</td>\n",
       "      <td>$6.86M</td>\n",
       "      <td>Twins journey to the Middle East to discover t...</td>\n",
       "      <td>Denis Villeneuve</td>\n",
       "      <td>['Lubna Azabal, Mélissa Désormeaux-Poulin, Max...</td>\n",
       "    </tr>\n",
       "  </tbody>\n",
       "</table>\n",
       "</div>"
      ],
      "text/plain": [
       "    Unnamed: 0            Name of movie Year of release  Runtime  Ratings  \\\n",
       "95          95             Vikram Vedha            2017      147      8.3   \n",
       "96          96                 Drishyam            2013      160      8.3   \n",
       "97          97                   Jagten            2012      115      8.3   \n",
       "98          98  Jodaeiye Nader az Simin            2011      123      8.3   \n",
       "99          99                Incendies            2010      131      8.3   \n",
       "\n",
       "    Metascore    Votes   Gross  \\\n",
       "95        NaN   35,900  ******   \n",
       "96        NaN   39,567    #244   \n",
       "97       77.0  313,632  $0.69M   \n",
       "98       95.0  238,114  $7.10M   \n",
       "99       80.0  168,721  $6.86M   \n",
       "\n",
       "                                          Discription           Director  \\\n",
       "95  Vikram, a no-nonsense police officer, accompan...   Gayatri, Pushkar   \n",
       "96  A man goes to extreme lengths to save his fami...      Jeethu Joseph   \n",
       "97  A teacher lives a lonely life, all the while s...  Thomas Vinterberg   \n",
       "98  A married couple are faced with a difficult de...     Asghar Farhadi   \n",
       "99  Twins journey to the Middle East to discover t...   Denis Villeneuve   \n",
       "\n",
       "                                                Stars  \n",
       "95  ['Madhavan, Vijay Sethupathi, Shraddha Srinath...  \n",
       "96          ['Mohanlal, Meena, Asha Sharath, Ansiba']  \n",
       "97  ['Mads Mikkelsen, Thomas Bo Larsen, Annika Wed...  \n",
       "98  ['Payman Maadi, Leila Hatami, Sareh Bayat, Sha...  \n",
       "99  ['Lubna Azabal, Mélissa Désormeaux-Poulin, Max...  "
      ]
     },
     "execution_count": 7,
     "metadata": {},
     "output_type": "execute_result"
    }
   ],
   "source": [
    "df.tail()"
   ]
  },
  {
   "cell_type": "markdown",
   "id": "6d52a853",
   "metadata": {},
   "source": [
    "Looking at the `info`, we can see that we have a total of __11__ `columns` and listed below are there `names`, the `range` of the `index`, what the different `data types` are and that the column `\"Metascore\"` have __75__ out of __100__ values, meaning that it is `missing` __25__ values for that column. "
   ]
  },
  {
   "cell_type": "code",
   "execution_count": 8,
   "id": "4d613001",
   "metadata": {},
   "outputs": [
    {
     "name": "stdout",
     "output_type": "stream",
     "text": [
      "<class 'pandas.core.frame.DataFrame'>\n",
      "RangeIndex: 100 entries, 0 to 99\n",
      "Data columns (total 11 columns):\n",
      " #   Column           Non-Null Count  Dtype  \n",
      "---  ------           --------------  -----  \n",
      " 0   Unnamed: 0       100 non-null    int64  \n",
      " 1   Name of movie    100 non-null    object \n",
      " 2   Year of release  100 non-null    object \n",
      " 3   Runtime          100 non-null    int64  \n",
      " 4   Ratings          100 non-null    float64\n",
      " 5   Metascore        75 non-null     float64\n",
      " 6   Votes            100 non-null    object \n",
      " 7   Gross            100 non-null    object \n",
      " 8   Discription      100 non-null    object \n",
      " 9   Director         100 non-null    object \n",
      " 10  Stars            100 non-null    object \n",
      "dtypes: float64(2), int64(2), object(7)\n",
      "memory usage: 8.7+ KB\n"
     ]
    }
   ],
   "source": [
    "df.info()"
   ]
  },
  {
   "cell_type": "markdown",
   "id": "58e3be55",
   "metadata": {},
   "source": [
    "Using the `\".shape\"` function is another way to determine the __amount__ of __rows__ and __columns__ in the data set."
   ]
  },
  {
   "cell_type": "code",
   "execution_count": 4,
   "id": "9a1bfb47",
   "metadata": {},
   "outputs": [
    {
     "data": {
      "text/plain": [
       "(100, 11)"
      ]
     },
     "execution_count": 4,
     "metadata": {},
     "output_type": "execute_result"
    }
   ],
   "source": [
    "df.shape"
   ]
  },
  {
   "cell_type": "markdown",
   "id": "0af2922b",
   "metadata": {},
   "source": [
    "Here just like in the __info function__ we can sum up the __null__ values using `\"isnull()\"` function and then adding the `\"sum()\"` function. We can see that all the columns have values except for `\"Metascore\"` but we still have to do more analysis to determine if our data is infact the right data in each column etc."
   ]
  },
  {
   "cell_type": "code",
   "execution_count": 14,
   "id": "0bb2df85",
   "metadata": {},
   "outputs": [
    {
     "data": {
      "text/plain": [
       "Unnamed: 0          0\n",
       "Name of movie       0\n",
       "Year of release     0\n",
       "Runtime             0\n",
       "Ratings             0\n",
       "Metascore          25\n",
       "Votes               0\n",
       "Gross               0\n",
       "Discription         0\n",
       "Director            0\n",
       "Stars               0\n",
       "dtype: int64"
      ]
     },
     "execution_count": 14,
     "metadata": {},
     "output_type": "execute_result"
    }
   ],
   "source": [
    "df.isnull().sum()"
   ]
  },
  {
   "cell_type": "markdown",
   "id": "21d44f17",
   "metadata": {},
   "source": [
    "Using the `describe()` function we can get a look at all our numeric columns summary statistics, non numeric data wont be displayed. "
   ]
  },
  {
   "cell_type": "code",
   "execution_count": 15,
   "id": "342bf4cd",
   "metadata": {},
   "outputs": [
    {
     "data": {
      "text/html": [
       "<div>\n",
       "<style scoped>\n",
       "    .dataframe tbody tr th:only-of-type {\n",
       "        vertical-align: middle;\n",
       "    }\n",
       "\n",
       "    .dataframe tbody tr th {\n",
       "        vertical-align: top;\n",
       "    }\n",
       "\n",
       "    .dataframe thead th {\n",
       "        text-align: right;\n",
       "    }\n",
       "</style>\n",
       "<table border=\"1\" class=\"dataframe\">\n",
       "  <thead>\n",
       "    <tr style=\"text-align: right;\">\n",
       "      <th></th>\n",
       "      <th>Unnamed: 0</th>\n",
       "      <th>Runtime</th>\n",
       "      <th>Ratings</th>\n",
       "      <th>Metascore</th>\n",
       "    </tr>\n",
       "  </thead>\n",
       "  <tbody>\n",
       "    <tr>\n",
       "      <th>count</th>\n",
       "      <td>100.000000</td>\n",
       "      <td>100.000000</td>\n",
       "      <td>100.000000</td>\n",
       "      <td>75.000000</td>\n",
       "    </tr>\n",
       "    <tr>\n",
       "      <th>mean</th>\n",
       "      <td>49.500000</td>\n",
       "      <td>137.100000</td>\n",
       "      <td>8.552000</td>\n",
       "      <td>83.653333</td>\n",
       "    </tr>\n",
       "    <tr>\n",
       "      <th>std</th>\n",
       "      <td>29.011492</td>\n",
       "      <td>27.426486</td>\n",
       "      <td>0.219034</td>\n",
       "      <td>10.404642</td>\n",
       "    </tr>\n",
       "    <tr>\n",
       "      <th>min</th>\n",
       "      <td>0.000000</td>\n",
       "      <td>87.000000</td>\n",
       "      <td>8.300000</td>\n",
       "      <td>61.000000</td>\n",
       "    </tr>\n",
       "    <tr>\n",
       "      <th>25%</th>\n",
       "      <td>24.750000</td>\n",
       "      <td>116.750000</td>\n",
       "      <td>8.400000</td>\n",
       "      <td>77.000000</td>\n",
       "    </tr>\n",
       "    <tr>\n",
       "      <th>50%</th>\n",
       "      <td>49.500000</td>\n",
       "      <td>134.500000</td>\n",
       "      <td>8.500000</td>\n",
       "      <td>85.000000</td>\n",
       "    </tr>\n",
       "    <tr>\n",
       "      <th>75%</th>\n",
       "      <td>74.250000</td>\n",
       "      <td>155.250000</td>\n",
       "      <td>8.600000</td>\n",
       "      <td>91.500000</td>\n",
       "    </tr>\n",
       "    <tr>\n",
       "      <th>max</th>\n",
       "      <td>99.000000</td>\n",
       "      <td>207.000000</td>\n",
       "      <td>9.300000</td>\n",
       "      <td>100.000000</td>\n",
       "    </tr>\n",
       "  </tbody>\n",
       "</table>\n",
       "</div>"
      ],
      "text/plain": [
       "       Unnamed: 0     Runtime     Ratings   Metascore\n",
       "count  100.000000  100.000000  100.000000   75.000000\n",
       "mean    49.500000  137.100000    8.552000   83.653333\n",
       "std     29.011492   27.426486    0.219034   10.404642\n",
       "min      0.000000   87.000000    8.300000   61.000000\n",
       "25%     24.750000  116.750000    8.400000   77.000000\n",
       "50%     49.500000  134.500000    8.500000   85.000000\n",
       "75%     74.250000  155.250000    8.600000   91.500000\n",
       "max     99.000000  207.000000    9.300000  100.000000"
      ]
     },
     "execution_count": 15,
     "metadata": {},
     "output_type": "execute_result"
    }
   ],
   "source": [
    "df.describe()"
   ]
  },
  {
   "cell_type": "code",
   "execution_count": 16,
   "id": "4af65f0a",
   "metadata": {},
   "outputs": [
    {
     "data": {
      "text/html": [
       "<div>\n",
       "<style scoped>\n",
       "    .dataframe tbody tr th:only-of-type {\n",
       "        vertical-align: middle;\n",
       "    }\n",
       "\n",
       "    .dataframe tbody tr th {\n",
       "        vertical-align: top;\n",
       "    }\n",
       "\n",
       "    .dataframe thead th {\n",
       "        text-align: right;\n",
       "    }\n",
       "</style>\n",
       "<table border=\"1\" class=\"dataframe\">\n",
       "  <thead>\n",
       "    <tr style=\"text-align: right;\">\n",
       "      <th></th>\n",
       "      <th>Unnamed: 0</th>\n",
       "      <th>Runtime</th>\n",
       "      <th>Ratings</th>\n",
       "      <th>Metascore</th>\n",
       "    </tr>\n",
       "  </thead>\n",
       "  <tbody>\n",
       "    <tr>\n",
       "      <th>Unnamed: 0</th>\n",
       "      <td>1.000000</td>\n",
       "      <td>-0.342974</td>\n",
       "      <td>-0.889850</td>\n",
       "      <td>-0.069199</td>\n",
       "    </tr>\n",
       "    <tr>\n",
       "      <th>Runtime</th>\n",
       "      <td>-0.342974</td>\n",
       "      <td>1.000000</td>\n",
       "      <td>0.342478</td>\n",
       "      <td>-0.124830</td>\n",
       "    </tr>\n",
       "    <tr>\n",
       "      <th>Ratings</th>\n",
       "      <td>-0.889850</td>\n",
       "      <td>0.342478</td>\n",
       "      <td>1.000000</td>\n",
       "      <td>0.176087</td>\n",
       "    </tr>\n",
       "    <tr>\n",
       "      <th>Metascore</th>\n",
       "      <td>-0.069199</td>\n",
       "      <td>-0.124830</td>\n",
       "      <td>0.176087</td>\n",
       "      <td>1.000000</td>\n",
       "    </tr>\n",
       "  </tbody>\n",
       "</table>\n",
       "</div>"
      ],
      "text/plain": [
       "            Unnamed: 0   Runtime   Ratings  Metascore\n",
       "Unnamed: 0    1.000000 -0.342974 -0.889850  -0.069199\n",
       "Runtime      -0.342974  1.000000  0.342478  -0.124830\n",
       "Ratings      -0.889850  0.342478  1.000000   0.176087\n",
       "Metascore    -0.069199 -0.124830  0.176087   1.000000"
      ]
     },
     "execution_count": 16,
     "metadata": {},
     "output_type": "execute_result"
    }
   ],
   "source": [
    "df.corr()"
   ]
  },
  {
   "cell_type": "code",
   "execution_count": null,
   "id": "d208b9cb",
   "metadata": {},
   "outputs": [],
   "source": []
  }
 ],
 "metadata": {
  "kernelspec": {
   "display_name": "Python 3",
   "language": "python",
   "name": "python3"
  },
  "language_info": {
   "codemirror_mode": {
    "name": "ipython",
    "version": 3
   },
   "file_extension": ".py",
   "mimetype": "text/x-python",
   "name": "python",
   "nbconvert_exporter": "python",
   "pygments_lexer": "ipython3",
   "version": "3.8.8"
  }
 },
 "nbformat": 4,
 "nbformat_minor": 5
}
